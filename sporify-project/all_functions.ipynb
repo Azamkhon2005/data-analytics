{
 "cells": [
  {
   "cell_type": "code",
   "execution_count": null,
   "id": "30860d04",
   "metadata": {},
   "outputs": [],
   "source": [
    "def top_10_songs(name):\n",
    "    artist = df[df['artist']==name]\n",
    "    top_songs = artist.groupby('title').agg({'streams':'sum'}).reset_index().sort_values('streams',ascending=False)[:10]\n",
    "    sns.barplot(data=top_songs,x='streams',y='title')\n",
    "    plt.title(f'top 10 songs of {name}',fontsize=20)\n",
    "    plt.show()"
   ]
  },
  {
   "cell_type": "code",
   "execution_count": null,
   "id": "ca595889",
   "metadata": {},
   "outputs": [],
   "source": [
    "def artist_streams_month(name):\n",
    "    plt.figure(figsize=(20,7))\n",
    "    artist = artist_streams_date[artist_streams_date['artist'].isin(name)]\n",
    "    sns.lineplot(data=artist,x='month-year',y='streams',hue=artist['artist'])\n",
    "    plt.title(f\"total streams by month of {name}\",fontsize=20)\n",
    "    plt.xticks(rotation=40)\n",
    "    plt.grid()\n",
    "    plt.show()"
   ]
  },
  {
   "cell_type": "code",
   "execution_count": null,
   "id": "4d7da0a1",
   "metadata": {},
   "outputs": [],
   "source": [
    "def song_rank_count_month(month_name,rank):\n",
    "    print(df[(df['rank']==rank)&(df['month-year']==month_name)]['title'].value_counts()[:10].reset_index())\n",
    "    sns.barplot(data=df[(df['rank']==rank)&(df['month-year']==month_name)]['title'].value_counts()[:10].reset_index(),x='title',y='index')\n",
    "    plt.title(f\"rank: {rank}  month: {month_name}\")\n",
    "    plt.ylabel('songs')\n",
    "    plt.xlabel('count')\n",
    "    plt.show()"
   ]
  },
  {
   "cell_type": "code",
   "execution_count": null,
   "id": "ed58f783",
   "metadata": {},
   "outputs": [],
   "source": [
    "def song_streams_month(month_name):\n",
    "    song_month = df[df['month-year']==month_name].groupby('title',as_index=False).agg({'streams':['sum','mean']})\n",
    "    song_month.columns = song_month.columns.droplevel(0)\n",
    "    song_month.rename({'':'title'},axis=1,inplace=True)\n",
    "    song_month_sum = song_month.sort_values('sum',ascending=False)[:10]\n",
    "    song_month_mean = song_month.sort_values('mean',ascending=False)[:10]\n",
    "    \n",
    "    \n",
    "    print(song_month_mean[['title','mean']])\n",
    "    plt.title(f'top 10 artists by average stream of {month_name}')\n",
    "    sns.barplot(data=song_month_mean,x='mean',y='title')\n",
    "    plt.show()\n",
    "    print('='*127*2)\n",
    "    print(song_month_sum[['title','sum']])\n",
    "    plt.title(f'top 10 artists by total sum of streams of {month_name}')\n",
    "    sns.barplot(data=song_month_sum,x='sum',y='title')\n",
    "    plt.show()"
   ]
  },
  {
   "cell_type": "code",
   "execution_count": null,
   "id": "ceec882e",
   "metadata": {},
   "outputs": [],
   "source": [
    "def artist_top_country_listening(name):\n",
    "    top = df[df['artist']==name].groupby(['region'],as_index=False).agg({'streams':'sum'}).sort_values('streams',ascending=False)[:10]\n",
    "    sns.barplot(data=top,x='streams',y='region')\n",
    "    plt.show()"
   ]
  },
  {
   "cell_type": "code",
   "execution_count": null,
   "id": "3d364f78",
   "metadata": {},
   "outputs": [],
   "source": [
    "def artist_month_stat(month_name):\n",
    "    month_artist = df[df['month-year']==month_name].groupby('artist',as_index=False).agg({'streams':['sum','mean']})\n",
    "    month_artist.columns = month_artist.columns.droplevel(0)\n",
    "    month_artist.rename({'':'artist'},axis=1,inplace=True)\n",
    "    month_artist_sum = month_artist.sort_values('sum',ascending=False)[:10]\n",
    "    month_artist_mean = month_artist.sort_values('mean',ascending=False)[:10]\n",
    "    print(month_artist_mean[['artist','mean']])\n",
    "    plt.title(f'top 10 artists by average stream of {month_name}')\n",
    "    sns.barplot(data=month_artist_mean,x='mean',y='artist')\n",
    "    plt.show()\n",
    "    print('='*127*2)\n",
    "    print(month_artist_sum[['artist','sum']])\n",
    "    plt.title(f'top 10 artists by total sum of streams of {month_name}')\n",
    "    sns.barplot(data=month_artist_sum,x='sum',y='artist')\n",
    "    plt.show()"
   ]
  },
  {
   "cell_type": "code",
   "execution_count": null,
   "id": "db598786",
   "metadata": {},
   "outputs": [],
   "source": [
    "def artist_mean_distplot(artist_name):\n",
    "    artist_streams_mean = df[df['artist']==artist_name].groupby('date',as_index=False).agg({'streams':'mean'})\n",
    "    sns.distplot(a=artist_streams_mean['streams'],bins=50,hist_kws=dict(edgecolor=\"black\"))\n",
    "    plt.show()"
   ]
  },
  {
   "cell_type": "code",
   "execution_count": null,
   "id": "041c0931",
   "metadata": {},
   "outputs": [],
   "source": [
    "def top_song_by_country_month(country,month_name):\n",
    "    stata_song = df[(df['region']==country) & (df['month-year']==month_name)].groupby('title',as_index=False) \\\n",
    "        .agg({'streams':'sum'}).sort_values('streams',ascending=False)[:10]\n",
    "    print(stata_song)\n",
    "    sns.barplot(data=stata_song,x='streams',y='title')\n",
    "    plt.title(f'top 10 songs by total streams in {month_name}')\n",
    "    plt.show()\n",
    "    stata_artist = df[(df['region']==country) & (df['month-year']==month_name)].groupby('artist',as_index=False) \\\n",
    "        .agg({'streams':'sum'}).sort_values('streams',ascending=False)[:10]\n",
    "    print(stata_artist)\n",
    "    sns.barplot(data=stata_artist,x='streams',y='artist')\n",
    "    plt.title(f'top 10 artists by total streams in {month_name}')\n",
    "    plt.show()"
   ]
  }
 ],
 "metadata": {
  "kernelspec": {
   "display_name": "Python 3 (ipykernel)",
   "language": "python",
   "name": "python3"
  },
  "language_info": {
   "codemirror_mode": {
    "name": "ipython",
    "version": 3
   },
   "file_extension": ".py",
   "mimetype": "text/x-python",
   "name": "python",
   "nbconvert_exporter": "python",
   "pygments_lexer": "ipython3",
   "version": "3.10.8"
  }
 },
 "nbformat": 4,
 "nbformat_minor": 5
}
