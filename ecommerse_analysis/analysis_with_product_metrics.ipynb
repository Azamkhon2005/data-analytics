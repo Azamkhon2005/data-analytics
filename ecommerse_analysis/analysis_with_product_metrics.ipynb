{
 "cells": [
  {
   "cell_type": "code",
   "execution_count": 1,
   "id": "eaa08cca",
   "metadata": {},
   "outputs": [],
   "source": [
    "import pandas as pd\n",
    "import numpy as np\n",
    "import matplotlib.pyplot as plt\n",
    "import seaborn as sns\n",
    "df = pd.read_csv(r'events.csv')"
   ]
  },
  {
   "cell_type": "code",
   "execution_count": 2,
   "id": "3796d9dd",
   "metadata": {},
   "outputs": [
    {
     "data": {
      "text/html": [
       "<div>\n",
       "<style scoped>\n",
       "    .dataframe tbody tr th:only-of-type {\n",
       "        vertical-align: middle;\n",
       "    }\n",
       "\n",
       "    .dataframe tbody tr th {\n",
       "        vertical-align: top;\n",
       "    }\n",
       "\n",
       "    .dataframe thead th {\n",
       "        text-align: right;\n",
       "    }\n",
       "</style>\n",
       "<table border=\"1\" class=\"dataframe\">\n",
       "  <thead>\n",
       "    <tr style=\"text-align: right;\">\n",
       "      <th></th>\n",
       "      <th>event_time</th>\n",
       "      <th>event_type</th>\n",
       "      <th>product_id</th>\n",
       "      <th>category_id</th>\n",
       "      <th>category_code</th>\n",
       "      <th>brand</th>\n",
       "      <th>price</th>\n",
       "      <th>user_id</th>\n",
       "      <th>user_session</th>\n",
       "    </tr>\n",
       "  </thead>\n",
       "  <tbody>\n",
       "    <tr>\n",
       "      <th>0</th>\n",
       "      <td>2020-09-24 11:57:06 UTC</td>\n",
       "      <td>view</td>\n",
       "      <td>1996170</td>\n",
       "      <td>2144415922528452715</td>\n",
       "      <td>electronics.telephone</td>\n",
       "      <td>NaN</td>\n",
       "      <td>31.90</td>\n",
       "      <td>1515915625519388267</td>\n",
       "      <td>LJuJVLEjPT</td>\n",
       "    </tr>\n",
       "    <tr>\n",
       "      <th>1</th>\n",
       "      <td>2020-09-24 11:57:26 UTC</td>\n",
       "      <td>view</td>\n",
       "      <td>139905</td>\n",
       "      <td>2144415926932472027</td>\n",
       "      <td>computers.components.cooler</td>\n",
       "      <td>zalman</td>\n",
       "      <td>17.16</td>\n",
       "      <td>1515915625519380411</td>\n",
       "      <td>tdicluNnRY</td>\n",
       "    </tr>\n",
       "    <tr>\n",
       "      <th>2</th>\n",
       "      <td>2020-09-24 11:57:27 UTC</td>\n",
       "      <td>view</td>\n",
       "      <td>215454</td>\n",
       "      <td>2144415927158964449</td>\n",
       "      <td>NaN</td>\n",
       "      <td>NaN</td>\n",
       "      <td>9.81</td>\n",
       "      <td>1515915625513238515</td>\n",
       "      <td>4TMArHtXQy</td>\n",
       "    </tr>\n",
       "    <tr>\n",
       "      <th>3</th>\n",
       "      <td>2020-09-24 11:57:33 UTC</td>\n",
       "      <td>view</td>\n",
       "      <td>635807</td>\n",
       "      <td>2144415923107266682</td>\n",
       "      <td>computers.peripherals.printer</td>\n",
       "      <td>pantum</td>\n",
       "      <td>113.81</td>\n",
       "      <td>1515915625519014356</td>\n",
       "      <td>aGFYrNgC08</td>\n",
       "    </tr>\n",
       "    <tr>\n",
       "      <th>4</th>\n",
       "      <td>2020-09-24 11:57:36 UTC</td>\n",
       "      <td>view</td>\n",
       "      <td>3658723</td>\n",
       "      <td>2144415921169498184</td>\n",
       "      <td>NaN</td>\n",
       "      <td>cameronsino</td>\n",
       "      <td>15.87</td>\n",
       "      <td>1515915625510743344</td>\n",
       "      <td>aa4mmk0kwQ</td>\n",
       "    </tr>\n",
       "  </tbody>\n",
       "</table>\n",
       "</div>"
      ],
      "text/plain": [
       "                event_time event_type  product_id          category_id  \\\n",
       "0  2020-09-24 11:57:06 UTC       view     1996170  2144415922528452715   \n",
       "1  2020-09-24 11:57:26 UTC       view      139905  2144415926932472027   \n",
       "2  2020-09-24 11:57:27 UTC       view      215454  2144415927158964449   \n",
       "3  2020-09-24 11:57:33 UTC       view      635807  2144415923107266682   \n",
       "4  2020-09-24 11:57:36 UTC       view     3658723  2144415921169498184   \n",
       "\n",
       "                   category_code        brand   price              user_id  \\\n",
       "0          electronics.telephone          NaN   31.90  1515915625519388267   \n",
       "1    computers.components.cooler       zalman   17.16  1515915625519380411   \n",
       "2                            NaN          NaN    9.81  1515915625513238515   \n",
       "3  computers.peripherals.printer       pantum  113.81  1515915625519014356   \n",
       "4                            NaN  cameronsino   15.87  1515915625510743344   \n",
       "\n",
       "  user_session  \n",
       "0   LJuJVLEjPT  \n",
       "1   tdicluNnRY  \n",
       "2   4TMArHtXQy  \n",
       "3   aGFYrNgC08  \n",
       "4   aa4mmk0kwQ  "
      ]
     },
     "execution_count": 2,
     "metadata": {},
     "output_type": "execute_result"
    }
   ],
   "source": [
    "df.head()"
   ]
  },
  {
   "cell_type": "code",
   "execution_count": 3,
   "id": "da8f750c",
   "metadata": {},
   "outputs": [
    {
     "name": "stdout",
     "output_type": "stream",
     "text": [
      "<class 'pandas.core.frame.DataFrame'>\n",
      "RangeIndex: 885129 entries, 0 to 885128\n",
      "Data columns (total 9 columns):\n",
      " #   Column         Non-Null Count   Dtype  \n",
      "---  ------         --------------   -----  \n",
      " 0   event_time     885129 non-null  object \n",
      " 1   event_type     885129 non-null  object \n",
      " 2   product_id     885129 non-null  int64  \n",
      " 3   category_id    885129 non-null  int64  \n",
      " 4   category_code  648910 non-null  object \n",
      " 5   brand          672765 non-null  object \n",
      " 6   price          885129 non-null  float64\n",
      " 7   user_id        885129 non-null  int64  \n",
      " 8   user_session   884964 non-null  object \n",
      "dtypes: float64(1), int64(3), object(5)\n",
      "memory usage: 60.8+ MB\n"
     ]
    }
   ],
   "source": [
    "df.info()"
   ]
  },
  {
   "cell_type": "code",
   "execution_count": 5,
   "id": "07bcaafc",
   "metadata": {},
   "outputs": [
    {
     "data": {
      "text/plain": [
       "(885129, 9)"
      ]
     },
     "execution_count": 5,
     "metadata": {},
     "output_type": "execute_result"
    }
   ],
   "source": [
    "df.shape"
   ]
  },
  {
   "cell_type": "code",
   "execution_count": 4,
   "id": "99d90e26",
   "metadata": {},
   "outputs": [],
   "source": [
    "df['event_time'] = pd.to_datetime(df['event_time'])"
   ]
  },
  {
   "cell_type": "code",
   "execution_count": 50,
   "id": "c2935cc6",
   "metadata": {},
   "outputs": [],
   "source": [
    "df = df.sort_values('event_time')"
   ]
  },
  {
   "cell_type": "code",
   "execution_count": 79,
   "id": "8123c814",
   "metadata": {},
   "outputs": [],
   "source": [
    "mau = df.groupby(df['event_time'].dt.strftime('%m-%y')).agg({'user_id':'nunique'}).reset_index()"
   ]
  },
  {
   "cell_type": "code",
   "execution_count": 80,
   "id": "4dde5318",
   "metadata": {},
   "outputs": [],
   "source": [
    "cart_count_users = df[df['event_type']=='cart'].groupby(df['event_time'].dt.strftime('%m-%y')).agg({'user_id':'nunique'}) \\\n",
    "    .reset_index().rename({'user_id':'cart_amount'},axis=1)"
   ]
  },
  {
   "cell_type": "code",
   "execution_count": 81,
   "id": "7a2f66ed",
   "metadata": {
    "scrolled": true
   },
   "outputs": [
    {
     "data": {
      "text/html": [
       "<div>\n",
       "<style scoped>\n",
       "    .dataframe tbody tr th:only-of-type {\n",
       "        vertical-align: middle;\n",
       "    }\n",
       "\n",
       "    .dataframe tbody tr th {\n",
       "        vertical-align: top;\n",
       "    }\n",
       "\n",
       "    .dataframe thead th {\n",
       "        text-align: right;\n",
       "    }\n",
       "</style>\n",
       "<table border=\"1\" class=\"dataframe\">\n",
       "  <thead>\n",
       "    <tr style=\"text-align: right;\">\n",
       "      <th></th>\n",
       "      <th>event_time</th>\n",
       "      <th>cart_amount</th>\n",
       "    </tr>\n",
       "  </thead>\n",
       "  <tbody>\n",
       "    <tr>\n",
       "      <th>0</th>\n",
       "      <td>01-21</td>\n",
       "      <td>8517</td>\n",
       "    </tr>\n",
       "    <tr>\n",
       "      <th>1</th>\n",
       "      <td>02-21</td>\n",
       "      <td>7726</td>\n",
       "    </tr>\n",
       "    <tr>\n",
       "      <th>2</th>\n",
       "      <td>09-20</td>\n",
       "      <td>1054</td>\n",
       "    </tr>\n",
       "    <tr>\n",
       "      <th>3</th>\n",
       "      <td>10-20</td>\n",
       "      <td>6424</td>\n",
       "    </tr>\n",
       "    <tr>\n",
       "      <th>4</th>\n",
       "      <td>11-20</td>\n",
       "      <td>7434</td>\n",
       "    </tr>\n",
       "    <tr>\n",
       "      <th>5</th>\n",
       "      <td>12-20</td>\n",
       "      <td>6650</td>\n",
       "    </tr>\n",
       "  </tbody>\n",
       "</table>\n",
       "</div>"
      ],
      "text/plain": [
       "  event_time  cart_amount\n",
       "0      01-21         8517\n",
       "1      02-21         7726\n",
       "2      09-20         1054\n",
       "3      10-20         6424\n",
       "4      11-20         7434\n",
       "5      12-20         6650"
      ]
     },
     "execution_count": 81,
     "metadata": {},
     "output_type": "execute_result"
    }
   ],
   "source": [
    "cart_count_users"
   ]
  },
  {
   "cell_type": "code",
   "execution_count": 82,
   "id": "06e6e1a6",
   "metadata": {},
   "outputs": [],
   "source": [
    "purchase_count_users = df[df['event_type']=='purchase'].groupby(df['event_time'].dt.strftime('%m-%y')).agg({'user_id':'nunique'}) \\\n",
    "    .reset_index().rename({'user_id':'purchase_amount'},axis=1)"
   ]
  },
  {
   "cell_type": "code",
   "execution_count": 83,
   "id": "863dacb5",
   "metadata": {},
   "outputs": [],
   "source": [
    "prep = pd.merge(mau,cart_count_users,how='inner',on='event_time')"
   ]
  },
  {
   "cell_type": "code",
   "execution_count": 84,
   "id": "bcd36a09",
   "metadata": {},
   "outputs": [],
   "source": [
    "cr = pd.merge(prep,purchase_count_users,how='inner',on='event_time')"
   ]
  },
  {
   "cell_type": "code",
   "execution_count": null,
   "id": "4e183d02",
   "metadata": {},
   "outputs": [],
   "source": []
  },
  {
   "cell_type": "code",
   "execution_count": 86,
   "id": "4941ba28",
   "metadata": {},
   "outputs": [],
   "source": [
    "cr['cart_per'] = round(cr['cart_amount']/cr['user_id']*100,2)\n",
    "cr['purchase_per'] = round(cr['purchase_amount']/cr['user_id']*100,2)"
   ]
  },
  {
   "cell_type": "code",
   "execution_count": 94,
   "id": "d220e338",
   "metadata": {},
   "outputs": [],
   "source": [
    "cr['month'] = cr['event_time'].apply(lambda x:int(x[:2]))\n",
    "cr['year'] = cr['event_time'].apply(lambda x:int(x[3:]))\n",
    "cr = cr.sort_values(by=['year','month'])"
   ]
  },
  {
   "cell_type": "code",
   "execution_count": 109,
   "id": "f8d51df8",
   "metadata": {},
   "outputs": [
    {
     "data": {
      "image/png": "[encoded data removed]",
      "text/plain": [
       "<Figure size 1500x700 with 1 Axes>"
      ]
     },
     "metadata": {},
     "output_type": "display_data"
    }
   ],
   "source": [
    "plt.figure(figsize=(15,7))\n",
    "sns.lineplot(data=cr,x='event_time',y='cart_per',label='conversion rate of carts by month')\n",
    "sns.lineplot(data=cr,x='event_time',y='purchase_per',label='conversion rate of purchases by month')\n",
    "plt.xticks(rotation=45)\n",
    "plt.grid()\n",
    "plt.show()"
   ]
  },
  {
   "cell_type": "code",
   "execution_count": 149,
   "id": "910fa2cf",
   "metadata": {},
   "outputs": [],
   "source": [
    "wau = df.groupby(df['event_time'].dt.strftime('%U-%m-%y')).agg({'user_id':'nunique'}).reset_index()"
   ]
  },
  {
   "cell_type": "code",
   "execution_count": 154,
   "id": "92c15f0b",
   "metadata": {},
   "outputs": [],
   "source": [
    "wau['week'] = wau['event_time'].apply(lambda x:int(x[:2]))"
   ]
  },
  {
   "cell_type": "code",
   "execution_count": 158,
   "id": "639d3060",
   "metadata": {},
   "outputs": [],
   "source": [
    "wau['month'] = wau['event_time'].apply(lambda x:int(x[3:5]))"
   ]
  },
  {
   "cell_type": "code",
   "execution_count": 160,
   "id": "551cc6e3",
   "metadata": {},
   "outputs": [],
   "source": [
    "wau['year'] = wau['event_time'].apply(lambda x:int(x[6:]))"
   ]
  },
  {
   "cell_type": "code",
   "execution_count": 161,
   "id": "b64ecdc3",
   "metadata": {
    "scrolled": true
   },
   "outputs": [
    {
     "data": {
      "text/html": [
       "<div>\n",
       "<style scoped>\n",
       "    .dataframe tbody tr th:only-of-type {\n",
       "        vertical-align: middle;\n",
       "    }\n",
       "\n",
       "    .dataframe tbody tr th {\n",
       "        vertical-align: top;\n",
       "    }\n",
       "\n",
       "    .dataframe thead th {\n",
       "        text-align: right;\n",
       "    }\n",
       "</style>\n",
       "<table border=\"1\" class=\"dataframe\">\n",
       "  <thead>\n",
       "    <tr style=\"text-align: right;\">\n",
       "      <th></th>\n",
       "      <th>event_time</th>\n",
       "      <th>user_id</th>\n",
       "      <th>week</th>\n",
       "      <th>month</th>\n",
       "      <th>year</th>\n",
       "    </tr>\n",
       "  </thead>\n",
       "  <tbody>\n",
       "    <tr>\n",
       "      <th>0</th>\n",
       "      <td>00-01-21</td>\n",
       "      <td>3884</td>\n",
       "      <td>0</td>\n",
       "      <td>1</td>\n",
       "      <td>21</td>\n",
       "    </tr>\n",
       "    <tr>\n",
       "      <th>1</th>\n",
       "      <td>01-01-21</td>\n",
       "      <td>18234</td>\n",
       "      <td>1</td>\n",
       "      <td>1</td>\n",
       "      <td>21</td>\n",
       "    </tr>\n",
       "    <tr>\n",
       "      <th>2</th>\n",
       "      <td>02-01-21</td>\n",
       "      <td>20502</td>\n",
       "      <td>2</td>\n",
       "      <td>1</td>\n",
       "      <td>21</td>\n",
       "    </tr>\n",
       "    <tr>\n",
       "      <th>3</th>\n",
       "      <td>03-01-21</td>\n",
       "      <td>20249</td>\n",
       "      <td>3</td>\n",
       "      <td>1</td>\n",
       "      <td>21</td>\n",
       "    </tr>\n",
       "    <tr>\n",
       "      <th>4</th>\n",
       "      <td>04-01-21</td>\n",
       "      <td>19563</td>\n",
       "      <td>4</td>\n",
       "      <td>1</td>\n",
       "      <td>21</td>\n",
       "    </tr>\n",
       "    <tr>\n",
       "      <th>5</th>\n",
       "      <td>05-01-21</td>\n",
       "      <td>2883</td>\n",
       "      <td>5</td>\n",
       "      <td>1</td>\n",
       "      <td>21</td>\n",
       "    </tr>\n",
       "    <tr>\n",
       "      <th>6</th>\n",
       "      <td>05-02-21</td>\n",
       "      <td>18249</td>\n",
       "      <td>5</td>\n",
       "      <td>2</td>\n",
       "      <td>21</td>\n",
       "    </tr>\n",
       "    <tr>\n",
       "      <th>7</th>\n",
       "      <td>06-02-21</td>\n",
       "      <td>19876</td>\n",
       "      <td>6</td>\n",
       "      <td>2</td>\n",
       "      <td>21</td>\n",
       "    </tr>\n",
       "    <tr>\n",
       "      <th>8</th>\n",
       "      <td>07-02-21</td>\n",
       "      <td>18971</td>\n",
       "      <td>7</td>\n",
       "      <td>2</td>\n",
       "      <td>21</td>\n",
       "    </tr>\n",
       "    <tr>\n",
       "      <th>9</th>\n",
       "      <td>08-02-21</td>\n",
       "      <td>17955</td>\n",
       "      <td>8</td>\n",
       "      <td>2</td>\n",
       "      <td>21</td>\n",
       "    </tr>\n",
       "    <tr>\n",
       "      <th>10</th>\n",
       "      <td>09-02-21</td>\n",
       "      <td>2775</td>\n",
       "      <td>9</td>\n",
       "      <td>2</td>\n",
       "      <td>21</td>\n",
       "    </tr>\n",
       "    <tr>\n",
       "      <th>11</th>\n",
       "      <td>38-09-20</td>\n",
       "      <td>5648</td>\n",
       "      <td>38</td>\n",
       "      <td>9</td>\n",
       "      <td>20</td>\n",
       "    </tr>\n",
       "    <tr>\n",
       "      <th>12</th>\n",
       "      <td>39-09-20</td>\n",
       "      <td>9969</td>\n",
       "      <td>39</td>\n",
       "      <td>9</td>\n",
       "      <td>20</td>\n",
       "    </tr>\n",
       "    <tr>\n",
       "      <th>13</th>\n",
       "      <td>39-10-20</td>\n",
       "      <td>7141</td>\n",
       "      <td>39</td>\n",
       "      <td>10</td>\n",
       "      <td>20</td>\n",
       "    </tr>\n",
       "    <tr>\n",
       "      <th>14</th>\n",
       "      <td>40-10-20</td>\n",
       "      <td>16633</td>\n",
       "      <td>40</td>\n",
       "      <td>10</td>\n",
       "      <td>20</td>\n",
       "    </tr>\n",
       "    <tr>\n",
       "      <th>15</th>\n",
       "      <td>41-10-20</td>\n",
       "      <td>19305</td>\n",
       "      <td>41</td>\n",
       "      <td>10</td>\n",
       "      <td>20</td>\n",
       "    </tr>\n",
       "    <tr>\n",
       "      <th>16</th>\n",
       "      <td>42-10-20</td>\n",
       "      <td>22179</td>\n",
       "      <td>42</td>\n",
       "      <td>10</td>\n",
       "      <td>20</td>\n",
       "    </tr>\n",
       "    <tr>\n",
       "      <th>17</th>\n",
       "      <td>43-10-20</td>\n",
       "      <td>21956</td>\n",
       "      <td>43</td>\n",
       "      <td>10</td>\n",
       "      <td>20</td>\n",
       "    </tr>\n",
       "    <tr>\n",
       "      <th>18</th>\n",
       "      <td>44-11-20</td>\n",
       "      <td>23126</td>\n",
       "      <td>44</td>\n",
       "      <td>11</td>\n",
       "      <td>20</td>\n",
       "    </tr>\n",
       "    <tr>\n",
       "      <th>19</th>\n",
       "      <td>45-11-20</td>\n",
       "      <td>24038</td>\n",
       "      <td>45</td>\n",
       "      <td>11</td>\n",
       "      <td>20</td>\n",
       "    </tr>\n",
       "    <tr>\n",
       "      <th>20</th>\n",
       "      <td>46-11-20</td>\n",
       "      <td>25600</td>\n",
       "      <td>46</td>\n",
       "      <td>11</td>\n",
       "      <td>20</td>\n",
       "    </tr>\n",
       "    <tr>\n",
       "      <th>21</th>\n",
       "      <td>47-11-20</td>\n",
       "      <td>18586</td>\n",
       "      <td>47</td>\n",
       "      <td>11</td>\n",
       "      <td>20</td>\n",
       "    </tr>\n",
       "    <tr>\n",
       "      <th>22</th>\n",
       "      <td>48-11-20</td>\n",
       "      <td>5147</td>\n",
       "      <td>48</td>\n",
       "      <td>11</td>\n",
       "      <td>20</td>\n",
       "    </tr>\n",
       "    <tr>\n",
       "      <th>23</th>\n",
       "      <td>48-12-20</td>\n",
       "      <td>12003</td>\n",
       "      <td>48</td>\n",
       "      <td>12</td>\n",
       "      <td>20</td>\n",
       "    </tr>\n",
       "    <tr>\n",
       "      <th>24</th>\n",
       "      <td>49-12-20</td>\n",
       "      <td>16294</td>\n",
       "      <td>49</td>\n",
       "      <td>12</td>\n",
       "      <td>20</td>\n",
       "    </tr>\n",
       "    <tr>\n",
       "      <th>25</th>\n",
       "      <td>50-12-20</td>\n",
       "      <td>18046</td>\n",
       "      <td>50</td>\n",
       "      <td>12</td>\n",
       "      <td>20</td>\n",
       "    </tr>\n",
       "    <tr>\n",
       "      <th>26</th>\n",
       "      <td>51-12-20</td>\n",
       "      <td>17990</td>\n",
       "      <td>51</td>\n",
       "      <td>12</td>\n",
       "      <td>20</td>\n",
       "    </tr>\n",
       "    <tr>\n",
       "      <th>27</th>\n",
       "      <td>52-12-20</td>\n",
       "      <td>10825</td>\n",
       "      <td>52</td>\n",
       "      <td>12</td>\n",
       "      <td>20</td>\n",
       "    </tr>\n",
       "  </tbody>\n",
       "</table>\n",
       "</div>"
      ],
      "text/plain": [
       "   event_time  user_id  week  month  year\n",
       "0    00-01-21     3884     0      1    21\n",
       "1    01-01-21    18234     1      1    21\n",
       "2    02-01-21    20502     2      1    21\n",
       "3    03-01-21    20249     3      1    21\n",
       "4    04-01-21    19563     4      1    21\n",
       "5    05-01-21     2883     5      1    21\n",
       "6    05-02-21    18249     5      2    21\n",
       "7    06-02-21    19876     6      2    21\n",
       "8    07-02-21    18971     7      2    21\n",
       "9    08-02-21    17955     8      2    21\n",
       "10   09-02-21     2775     9      2    21\n",
       "11   38-09-20     5648    38      9    20\n",
       "12   39-09-20     9969    39      9    20\n",
       "13   39-10-20     7141    39     10    20\n",
       "14   40-10-20    16633    40     10    20\n",
       "15   41-10-20    19305    41     10    20\n",
       "16   42-10-20    22179    42     10    20\n",
       "17   43-10-20    21956    43     10    20\n",
       "18   44-11-20    23126    44     11    20\n",
       "19   45-11-20    24038    45     11    20\n",
       "20   46-11-20    25600    46     11    20\n",
       "21   47-11-20    18586    47     11    20\n",
       "22   48-11-20     5147    48     11    20\n",
       "23   48-12-20    12003    48     12    20\n",
       "24   49-12-20    16294    49     12    20\n",
       "25   50-12-20    18046    50     12    20\n",
       "26   51-12-20    17990    51     12    20\n",
       "27   52-12-20    10825    52     12    20"
      ]
     },
     "execution_count": 161,
     "metadata": {},
     "output_type": "execute_result"
    }
   ],
   "source": [
    "wau"
   ]
  },
  {
   "cell_type": "code",
   "execution_count": 162,
   "id": "e0a580cf",
   "metadata": {},
   "outputs": [],
   "source": [
    "wau = wau.sort_values(by=['year','month','week'])"
   ]
  },
  {
   "cell_type": "code",
   "execution_count": 163,
   "id": "6104e1fd",
   "metadata": {},
   "outputs": [
    {
     "data": {
      "image/png": "[encoded data removed]",
      "text/plain": [
       "<Figure size 1500x500 with 1 Axes>"
      ]
     },
     "metadata": {},
     "output_type": "display_data"
    }
   ],
   "source": [
    "plt.figure(figsize=(15,5))\n",
    "sns.lineplot(data=wau,x='event_time',y='user_id')\n",
    "plt.xticks(rotation=45)\n",
    "plt.grid()\n",
    "plt.title('WAU',fontsize=20)\n",
    "plt.show()"
   ]
  },
  {
   "cell_type": "markdown",
   "id": "de1c4226",
   "metadata": {},
   "source": [
    "# Shopping Cart Abandonment"
   ]
  },
  {
   "cell_type": "code",
   "execution_count": 170,
   "id": "dd8ed13d",
   "metadata": {},
   "outputs": [
    {
     "data": {
      "text/html": [
       "<div>\n",
       "<style scoped>\n",
       "    .dataframe tbody tr th:only-of-type {\n",
       "        vertical-align: middle;\n",
       "    }\n",
       "\n",
       "    .dataframe tbody tr th {\n",
       "        vertical-align: top;\n",
       "    }\n",
       "\n",
       "    .dataframe thead th {\n",
       "        text-align: right;\n",
       "    }\n",
       "</style>\n",
       "<table border=\"1\" class=\"dataframe\">\n",
       "  <thead>\n",
       "    <tr style=\"text-align: right;\">\n",
       "      <th></th>\n",
       "      <th>event_time</th>\n",
       "      <th>event_type</th>\n",
       "      <th>product_id</th>\n",
       "      <th>category_id</th>\n",
       "      <th>category_code</th>\n",
       "      <th>brand</th>\n",
       "      <th>price</th>\n",
       "      <th>user_id</th>\n",
       "      <th>user_session</th>\n",
       "    </tr>\n",
       "  </thead>\n",
       "  <tbody>\n",
       "    <tr>\n",
       "      <th>0</th>\n",
       "      <td>2020-09-24 11:57:06+00:00</td>\n",
       "      <td>view</td>\n",
       "      <td>1996170</td>\n",
       "      <td>2144415922528452715</td>\n",
       "      <td>electronics.telephone</td>\n",
       "      <td>NaN</td>\n",
       "      <td>31.90</td>\n",
       "      <td>1515915625519388267</td>\n",
       "      <td>LJuJVLEjPT</td>\n",
       "    </tr>\n",
       "    <tr>\n",
       "      <th>1</th>\n",
       "      <td>2020-09-24 11:57:26+00:00</td>\n",
       "      <td>view</td>\n",
       "      <td>139905</td>\n",
       "      <td>2144415926932472027</td>\n",
       "      <td>computers.components.cooler</td>\n",
       "      <td>zalman</td>\n",
       "      <td>17.16</td>\n",
       "      <td>1515915625519380411</td>\n",
       "      <td>tdicluNnRY</td>\n",
       "    </tr>\n",
       "    <tr>\n",
       "      <th>2</th>\n",
       "      <td>2020-09-24 11:57:27+00:00</td>\n",
       "      <td>view</td>\n",
       "      <td>215454</td>\n",
       "      <td>2144415927158964449</td>\n",
       "      <td>NaN</td>\n",
       "      <td>NaN</td>\n",
       "      <td>9.81</td>\n",
       "      <td>1515915625513238515</td>\n",
       "      <td>4TMArHtXQy</td>\n",
       "    </tr>\n",
       "    <tr>\n",
       "      <th>3</th>\n",
       "      <td>2020-09-24 11:57:33+00:00</td>\n",
       "      <td>view</td>\n",
       "      <td>635807</td>\n",
       "      <td>2144415923107266682</td>\n",
       "      <td>computers.peripherals.printer</td>\n",
       "      <td>pantum</td>\n",
       "      <td>113.81</td>\n",
       "      <td>1515915625519014356</td>\n",
       "      <td>aGFYrNgC08</td>\n",
       "    </tr>\n",
       "    <tr>\n",
       "      <th>4</th>\n",
       "      <td>2020-09-24 11:57:36+00:00</td>\n",
       "      <td>view</td>\n",
       "      <td>3658723</td>\n",
       "      <td>2144415921169498184</td>\n",
       "      <td>NaN</td>\n",
       "      <td>cameronsino</td>\n",
       "      <td>15.87</td>\n",
       "      <td>1515915625510743344</td>\n",
       "      <td>aa4mmk0kwQ</td>\n",
       "    </tr>\n",
       "  </tbody>\n",
       "</table>\n",
       "</div>"
      ],
      "text/plain": [
       "                 event_time event_type  product_id          category_id  \\\n",
       "0 2020-09-24 11:57:06+00:00       view     1996170  2144415922528452715   \n",
       "1 2020-09-24 11:57:26+00:00       view      139905  2144415926932472027   \n",
       "2 2020-09-24 11:57:27+00:00       view      215454  2144415927158964449   \n",
       "3 2020-09-24 11:57:33+00:00       view      635807  2144415923107266682   \n",
       "4 2020-09-24 11:57:36+00:00       view     3658723  2144415921169498184   \n",
       "\n",
       "                   category_code        brand   price              user_id  \\\n",
       "0          electronics.telephone          NaN   31.90  1515915625519388267   \n",
       "1    computers.components.cooler       zalman   17.16  1515915625519380411   \n",
       "2                            NaN          NaN    9.81  1515915625513238515   \n",
       "3  computers.peripherals.printer       pantum  113.81  1515915625519014356   \n",
       "4                            NaN  cameronsino   15.87  1515915625510743344   \n",
       "\n",
       "  user_session  \n",
       "0   LJuJVLEjPT  \n",
       "1   tdicluNnRY  \n",
       "2   4TMArHtXQy  \n",
       "3   aGFYrNgC08  \n",
       "4   aa4mmk0kwQ  "
      ]
     },
     "execution_count": 170,
     "metadata": {},
     "output_type": "execute_result"
    }
   ],
   "source": [
    "df.head()"
   ]
  },
  {
   "cell_type": "code",
   "execution_count": 198,
   "id": "d105a9c3",
   "metadata": {},
   "outputs": [],
   "source": [
    "items_carted_month = df[df['event_type']=='cart'].groupby(['user_id',df['event_time'].dt.strftime('%m-%y')]).agg({'category_id':'nunique'}) \\\n",
    "    .reset_index().sort_values('category_id',ascending=False).rename({'category_id':'items_in_cart'},axis=1)"
   ]
  },
  {
   "cell_type": "code",
   "execution_count": 201,
   "id": "8f872a72",
   "metadata": {},
   "outputs": [],
   "source": [
    "items_bought_month = df[df['event_type']=='purchase'].groupby(['user_id',df['event_time'].dt.strftime('%m-%y')]).agg({'category_id':'nunique'}) \\\n",
    "    .reset_index().sort_values('category_id',ascending=False).rename({'category_id':'items_bought'},axis=1)"
   ]
  },
  {
   "cell_type": "code",
   "execution_count": null,
   "id": "77996007",
   "metadata": {},
   "outputs": [],
   "source": []
  },
  {
   "cell_type": "code",
   "execution_count": 205,
   "id": "a0fd1ef7",
   "metadata": {},
   "outputs": [],
   "source": [
    "sca_month = pd.merge(items_bought_month,items_carted_month,how='inner',on=['user_id','event_time'])"
   ]
  },
  {
   "cell_type": "code",
   "execution_count": 208,
   "id": "fd1d4549",
   "metadata": {},
   "outputs": [
    {
     "data": {
      "text/html": [
       "<div>\n",
       "<style scoped>\n",
       "    .dataframe tbody tr th:only-of-type {\n",
       "        vertical-align: middle;\n",
       "    }\n",
       "\n",
       "    .dataframe tbody tr th {\n",
       "        vertical-align: top;\n",
       "    }\n",
       "\n",
       "    .dataframe thead th {\n",
       "        text-align: right;\n",
       "    }\n",
       "</style>\n",
       "<table border=\"1\" class=\"dataframe\">\n",
       "  <thead>\n",
       "    <tr style=\"text-align: right;\">\n",
       "      <th></th>\n",
       "      <th>user_id</th>\n",
       "      <th>event_time</th>\n",
       "      <th>items_bought</th>\n",
       "      <th>items_in_cart</th>\n",
       "    </tr>\n",
       "  </thead>\n",
       "  <tbody>\n",
       "    <tr>\n",
       "      <th>0</th>\n",
       "      <td>1515915625567754658</td>\n",
       "      <td>12-20</td>\n",
       "      <td>10</td>\n",
       "      <td>11</td>\n",
       "    </tr>\n",
       "    <tr>\n",
       "      <th>1</th>\n",
       "      <td>1515915625604293348</td>\n",
       "      <td>02-21</td>\n",
       "      <td>10</td>\n",
       "      <td>11</td>\n",
       "    </tr>\n",
       "    <tr>\n",
       "      <th>2</th>\n",
       "      <td>1515915625565385220</td>\n",
       "      <td>12-20</td>\n",
       "      <td>10</td>\n",
       "      <td>11</td>\n",
       "    </tr>\n",
       "    <tr>\n",
       "      <th>3</th>\n",
       "      <td>1515915625603113992</td>\n",
       "      <td>02-21</td>\n",
       "      <td>10</td>\n",
       "      <td>11</td>\n",
       "    </tr>\n",
       "    <tr>\n",
       "      <th>4</th>\n",
       "      <td>1515915625598216695</td>\n",
       "      <td>01-21</td>\n",
       "      <td>10</td>\n",
       "      <td>10</td>\n",
       "    </tr>\n",
       "    <tr>\n",
       "      <th>...</th>\n",
       "      <td>...</td>\n",
       "      <td>...</td>\n",
       "      <td>...</td>\n",
       "      <td>...</td>\n",
       "    </tr>\n",
       "    <tr>\n",
       "      <th>20444</th>\n",
       "      <td>1515915625539914586</td>\n",
       "      <td>11-20</td>\n",
       "      <td>1</td>\n",
       "      <td>1</td>\n",
       "    </tr>\n",
       "    <tr>\n",
       "      <th>20445</th>\n",
       "      <td>1515915625539913911</td>\n",
       "      <td>11-20</td>\n",
       "      <td>1</td>\n",
       "      <td>1</td>\n",
       "    </tr>\n",
       "    <tr>\n",
       "      <th>20446</th>\n",
       "      <td>1515915625539912172</td>\n",
       "      <td>11-20</td>\n",
       "      <td>1</td>\n",
       "      <td>1</td>\n",
       "    </tr>\n",
       "    <tr>\n",
       "      <th>20447</th>\n",
       "      <td>1515915625539910852</td>\n",
       "      <td>11-20</td>\n",
       "      <td>1</td>\n",
       "      <td>1</td>\n",
       "    </tr>\n",
       "    <tr>\n",
       "      <th>20448</th>\n",
       "      <td>1515915625611011782</td>\n",
       "      <td>02-21</td>\n",
       "      <td>1</td>\n",
       "      <td>1</td>\n",
       "    </tr>\n",
       "  </tbody>\n",
       "</table>\n",
       "<p>20449 rows × 4 columns</p>\n",
       "</div>"
      ],
      "text/plain": [
       "                   user_id event_time  items_bought  items_in_cart\n",
       "0      1515915625567754658      12-20            10             11\n",
       "1      1515915625604293348      02-21            10             11\n",
       "2      1515915625565385220      12-20            10             11\n",
       "3      1515915625603113992      02-21            10             11\n",
       "4      1515915625598216695      01-21            10             10\n",
       "...                    ...        ...           ...            ...\n",
       "20444  1515915625539914586      11-20             1              1\n",
       "20445  1515915625539913911      11-20             1              1\n",
       "20446  1515915625539912172      11-20             1              1\n",
       "20447  1515915625539910852      11-20             1              1\n",
       "20448  1515915625611011782      02-21             1              1\n",
       "\n",
       "[20449 rows x 4 columns]"
      ]
     },
     "execution_count": 208,
     "metadata": {},
     "output_type": "execute_result"
    }
   ],
   "source": [
    "sca_month"
   ]
  },
  {
   "cell_type": "code",
   "execution_count": 213,
   "id": "13e223d6",
   "metadata": {},
   "outputs": [],
   "source": [
    "abandonment = sca_month[sca_month['items_bought']<sca_month['items_in_cart']]['event_time'].value_counts().reset_index()"
   ]
  },
  {
   "cell_type": "code",
   "execution_count": 218,
   "id": "8ffea8d8",
   "metadata": {},
   "outputs": [],
   "source": [
    "event_amount = sca_month['event_time'].value_counts().reset_index()"
   ]
  },
  {
   "cell_type": "code",
   "execution_count": 222,
   "id": "4e359cea",
   "metadata": {},
   "outputs": [],
   "source": [
    "sca = pd.merge(abandonment,event_amount,on='index') \\\n",
    "    .rename({'index':'event_time','event_time_x':'not_bought_amount','event_time_y':'bought_amount'},axis=1)"
   ]
  },
  {
   "cell_type": "code",
   "execution_count": 227,
   "id": "3b3fbbbf",
   "metadata": {},
   "outputs": [],
   "source": [
    "sca['sca_per'] = round(sca['not_bought_amount']/sca['bought_amount']*100,2)"
   ]
  },
  {
   "cell_type": "code",
   "execution_count": 228,
   "id": "5bc3d684",
   "metadata": {},
   "outputs": [],
   "source": [
    "sca['month'] = sca['event_time'].apply(lambda x:int(x[:2]))\n",
    "sca['year'] = sca['event_time'].apply(lambda x:int(x[3:]))\n",
    "sca = sca.sort_values(by=['year','month'])"
   ]
  },
  {
   "cell_type": "code",
   "execution_count": 229,
   "id": "e93fab7e",
   "metadata": {},
   "outputs": [
    {
     "data": {
      "text/html": [
       "<div>\n",
       "<style scoped>\n",
       "    .dataframe tbody tr th:only-of-type {\n",
       "        vertical-align: middle;\n",
       "    }\n",
       "\n",
       "    .dataframe tbody tr th {\n",
       "        vertical-align: top;\n",
       "    }\n",
       "\n",
       "    .dataframe thead th {\n",
       "        text-align: right;\n",
       "    }\n",
       "</style>\n",
       "<table border=\"1\" class=\"dataframe\">\n",
       "  <thead>\n",
       "    <tr style=\"text-align: right;\">\n",
       "      <th></th>\n",
       "      <th>event_time</th>\n",
       "      <th>not_bought_amount</th>\n",
       "      <th>bought_amount</th>\n",
       "      <th>sca_per</th>\n",
       "      <th>month</th>\n",
       "      <th>year</th>\n",
       "    </tr>\n",
       "  </thead>\n",
       "  <tbody>\n",
       "    <tr>\n",
       "      <th>5</th>\n",
       "      <td>09-20</td>\n",
       "      <td>8</td>\n",
       "      <td>572</td>\n",
       "      <td>1.40</td>\n",
       "      <td>9</td>\n",
       "      <td>20</td>\n",
       "    </tr>\n",
       "    <tr>\n",
       "      <th>4</th>\n",
       "      <td>10-20</td>\n",
       "      <td>35</td>\n",
       "      <td>3545</td>\n",
       "      <td>0.99</td>\n",
       "      <td>10</td>\n",
       "      <td>20</td>\n",
       "    </tr>\n",
       "    <tr>\n",
       "      <th>2</th>\n",
       "      <td>11-20</td>\n",
       "      <td>54</td>\n",
       "      <td>4144</td>\n",
       "      <td>1.30</td>\n",
       "      <td>11</td>\n",
       "      <td>20</td>\n",
       "    </tr>\n",
       "    <tr>\n",
       "      <th>3</th>\n",
       "      <td>12-20</td>\n",
       "      <td>37</td>\n",
       "      <td>3673</td>\n",
       "      <td>1.01</td>\n",
       "      <td>12</td>\n",
       "      <td>20</td>\n",
       "    </tr>\n",
       "    <tr>\n",
       "      <th>0</th>\n",
       "      <td>01-21</td>\n",
       "      <td>78</td>\n",
       "      <td>4476</td>\n",
       "      <td>1.74</td>\n",
       "      <td>1</td>\n",
       "      <td>21</td>\n",
       "    </tr>\n",
       "    <tr>\n",
       "      <th>1</th>\n",
       "      <td>02-21</td>\n",
       "      <td>74</td>\n",
       "      <td>4039</td>\n",
       "      <td>1.83</td>\n",
       "      <td>2</td>\n",
       "      <td>21</td>\n",
       "    </tr>\n",
       "  </tbody>\n",
       "</table>\n",
       "</div>"
      ],
      "text/plain": [
       "  event_time  not_bought_amount  bought_amount  sca_per  month  year\n",
       "5      09-20                  8            572     1.40      9    20\n",
       "4      10-20                 35           3545     0.99     10    20\n",
       "2      11-20                 54           4144     1.30     11    20\n",
       "3      12-20                 37           3673     1.01     12    20\n",
       "0      01-21                 78           4476     1.74      1    21\n",
       "1      02-21                 74           4039     1.83      2    21"
      ]
     },
     "execution_count": 229,
     "metadata": {},
     "output_type": "execute_result"
    }
   ],
   "source": [
    "sca"
   ]
  },
  {
   "cell_type": "code",
   "execution_count": 234,
   "id": "ba4ecb61",
   "metadata": {},
   "outputs": [
    {
     "data": {
      "image/png": "[encoded data removed]",
      "text/plain": [
       "<Figure size 1200x500 with 1 Axes>"
      ]
     },
     "metadata": {},
     "output_type": "display_data"
    }
   ],
   "source": [
    "plt.figure(figsize=(12,5))\n",
    "sns.lineplot(data=sca,x='event_time',y='sca_per')\n",
    "plt.title('sca percent by month')\n",
    "plt.show()"
   ]
  },
  {
   "cell_type": "markdown",
   "id": "1f834100",
   "metadata": {},
   "source": [
    "# average order value"
   ]
  },
  {
   "cell_type": "code",
   "execution_count": 274,
   "id": "9d74d862",
   "metadata": {
    "scrolled": true
   },
   "outputs": [
    {
     "name": "stdout",
     "output_type": "stream",
     "text": [
      "AOV : 137 $\n"
     ]
    }
   ],
   "source": [
    "total_aov = round(df[df['event_type']=='purchase']['price'].mean())\n",
    "print('AOV :',total_aov,'$')"
   ]
  },
  {
   "cell_type": "code",
   "execution_count": 275,
   "id": "fc233704",
   "metadata": {},
   "outputs": [],
   "source": [
    "aov_month = df[df['event_type']=='purchase'].groupby(df['event_time'].dt.strftime('%m-%y')) \\\n",
    "    .agg({'price':'mean'}).reset_index()"
   ]
  },
  {
   "cell_type": "code",
   "execution_count": 276,
   "id": "d77c1b6a",
   "metadata": {},
   "outputs": [
    {
     "data": {
      "text/html": [
       "<div>\n",
       "<style scoped>\n",
       "    .dataframe tbody tr th:only-of-type {\n",
       "        vertical-align: middle;\n",
       "    }\n",
       "\n",
       "    .dataframe tbody tr th {\n",
       "        vertical-align: top;\n",
       "    }\n",
       "\n",
       "    .dataframe thead th {\n",
       "        text-align: right;\n",
       "    }\n",
       "</style>\n",
       "<table border=\"1\" class=\"dataframe\">\n",
       "  <thead>\n",
       "    <tr style=\"text-align: right;\">\n",
       "      <th></th>\n",
       "      <th>event_time</th>\n",
       "      <th>price</th>\n",
       "    </tr>\n",
       "  </thead>\n",
       "  <tbody>\n",
       "    <tr>\n",
       "      <th>0</th>\n",
       "      <td>01-21</td>\n",
       "      <td>179.003075</td>\n",
       "    </tr>\n",
       "    <tr>\n",
       "      <th>1</th>\n",
       "      <td>02-21</td>\n",
       "      <td>180.140722</td>\n",
       "    </tr>\n",
       "    <tr>\n",
       "      <th>2</th>\n",
       "      <td>09-20</td>\n",
       "      <td>95.683227</td>\n",
       "    </tr>\n",
       "    <tr>\n",
       "      <th>3</th>\n",
       "      <td>10-20</td>\n",
       "      <td>89.641554</td>\n",
       "    </tr>\n",
       "    <tr>\n",
       "      <th>4</th>\n",
       "      <td>11-20</td>\n",
       "      <td>104.025118</td>\n",
       "    </tr>\n",
       "    <tr>\n",
       "      <th>5</th>\n",
       "      <td>12-20</td>\n",
       "      <td>124.535273</td>\n",
       "    </tr>\n",
       "  </tbody>\n",
       "</table>\n",
       "</div>"
      ],
      "text/plain": [
       "  event_time       price\n",
       "0      01-21  179.003075\n",
       "1      02-21  180.140722\n",
       "2      09-20   95.683227\n",
       "3      10-20   89.641554\n",
       "4      11-20  104.025118\n",
       "5      12-20  124.535273"
      ]
     },
     "execution_count": 276,
     "metadata": {},
     "output_type": "execute_result"
    }
   ],
   "source": [
    "aov_month"
   ]
  },
  {
   "cell_type": "code",
   "execution_count": 278,
   "id": "285e8ba2",
   "metadata": {},
   "outputs": [],
   "source": [
    "aov_month['month'] = aov_month['event_time'].apply(lambda x:int(x[:2]))\n",
    "aov_month['year'] = aov_month['event_time'].apply(lambda x:int(x[3:]))\n",
    "aov_month = aov_month.sort_values(by=['year','month'])"
   ]
  },
  {
   "cell_type": "code",
   "execution_count": 279,
   "id": "d19ab490",
   "metadata": {},
   "outputs": [
    {
     "data": {
      "text/html": [
       "<div>\n",
       "<style scoped>\n",
       "    .dataframe tbody tr th:only-of-type {\n",
       "        vertical-align: middle;\n",
       "    }\n",
       "\n",
       "    .dataframe tbody tr th {\n",
       "        vertical-align: top;\n",
       "    }\n",
       "\n",
       "    .dataframe thead th {\n",
       "        text-align: right;\n",
       "    }\n",
       "</style>\n",
       "<table border=\"1\" class=\"dataframe\">\n",
       "  <thead>\n",
       "    <tr style=\"text-align: right;\">\n",
       "      <th></th>\n",
       "      <th>event_time</th>\n",
       "      <th>price</th>\n",
       "      <th>month</th>\n",
       "      <th>year</th>\n",
       "    </tr>\n",
       "  </thead>\n",
       "  <tbody>\n",
       "    <tr>\n",
       "      <th>2</th>\n",
       "      <td>09-20</td>\n",
       "      <td>95.683227</td>\n",
       "      <td>9</td>\n",
       "      <td>20</td>\n",
       "    </tr>\n",
       "    <tr>\n",
       "      <th>3</th>\n",
       "      <td>10-20</td>\n",
       "      <td>89.641554</td>\n",
       "      <td>10</td>\n",
       "      <td>20</td>\n",
       "    </tr>\n",
       "    <tr>\n",
       "      <th>4</th>\n",
       "      <td>11-20</td>\n",
       "      <td>104.025118</td>\n",
       "      <td>11</td>\n",
       "      <td>20</td>\n",
       "    </tr>\n",
       "    <tr>\n",
       "      <th>5</th>\n",
       "      <td>12-20</td>\n",
       "      <td>124.535273</td>\n",
       "      <td>12</td>\n",
       "      <td>20</td>\n",
       "    </tr>\n",
       "    <tr>\n",
       "      <th>0</th>\n",
       "      <td>01-21</td>\n",
       "      <td>179.003075</td>\n",
       "      <td>1</td>\n",
       "      <td>21</td>\n",
       "    </tr>\n",
       "    <tr>\n",
       "      <th>1</th>\n",
       "      <td>02-21</td>\n",
       "      <td>180.140722</td>\n",
       "      <td>2</td>\n",
       "      <td>21</td>\n",
       "    </tr>\n",
       "  </tbody>\n",
       "</table>\n",
       "</div>"
      ],
      "text/plain": [
       "  event_time       price  month  year\n",
       "2      09-20   95.683227      9    20\n",
       "3      10-20   89.641554     10    20\n",
       "4      11-20  104.025118     11    20\n",
       "5      12-20  124.535273     12    20\n",
       "0      01-21  179.003075      1    21\n",
       "1      02-21  180.140722      2    21"
      ]
     },
     "execution_count": 279,
     "metadata": {},
     "output_type": "execute_result"
    }
   ],
   "source": [
    "aov_month"
   ]
  },
  {
   "cell_type": "code",
   "execution_count": 286,
   "id": "a117122e",
   "metadata": {},
   "outputs": [
    {
     "data": {
      "image/png": "[encoded data removed]",
      "text/plain": [
       "<Figure size 800x500 with 1 Axes>"
      ]
     },
     "metadata": {},
     "output_type": "display_data"
    }
   ],
   "source": [
    "plt.figure(figsize=(8,5))\n",
    "sns.lineplot(data = aov_month,x='event_time',y='price')\n",
    "plt.title('average sales by month',fontsize=20)\n",
    "plt.show()"
   ]
  },
  {
   "cell_type": "code",
   "execution_count": null,
   "id": "daf133ed",
   "metadata": {},
   "outputs": [],
   "source": []
  }
 ],
 "metadata": {
  "kernelspec": {
   "display_name": "Python 3 (ipykernel)",
   "language": "python",
   "name": "python3"
  },
  "language_info": {
   "codemirror_mode": {
    "name": "ipython",
    "version": 3
   },
   "file_extension": ".py",
   "mimetype": "text/x-python",
   "name": "python",
   "nbconvert_exporter": "python",
   "pygments_lexer": "ipython3",
   "version": "3.10.8"
  }
 },
 "nbformat": 4,
 "nbformat_minor": 5
}
